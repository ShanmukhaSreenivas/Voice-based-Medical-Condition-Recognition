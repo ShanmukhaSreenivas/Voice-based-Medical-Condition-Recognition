{
 "cells": [
  {
   "cell_type": "code",
   "execution_count": null,
   "metadata": {},
   "outputs": [],
   "source": [
    "import transformers\n",
    "print(transformers.__version__)"
   ]
  },
  {
   "cell_type": "code",
   "execution_count": null,
   "metadata": {},
   "outputs": [],
   "source": [
    "import librosa\n",
    "import torch\n",
    "import IPython.display as display\n",
    "from transformers import Wav2Vec2ForCTC, Wav2Vec2Tokenizer\n",
    "import numpy as np"
   ]
  },
  {
   "cell_type": "code",
   "execution_count": null,
   "metadata": {},
   "outputs": [],
   "source": [
    "#load pre-trained model and tokenizer\n",
    "tokenizer = Wav2Vec2Tokenizer.from_pretrained(\"facebook/wav2vec2-base-960h\")\n",
    "model = Wav2Vec2ForCTC.from_pretrained(\"facebook/wav2vec2-base-960h\")"
   ]
  },
  {
   "cell_type": "code",
   "execution_count": null,
   "metadata": {},
   "outputs": [],
   "source": [
    "audio, sampling_rate = librosa.load(\"Medical Speech, Transcription, and Intent/recordings/train/1249120_44142156_69073946.wav\",sr=16000)"
   ]
  },
  {
   "cell_type": "code",
   "execution_count": null,
   "metadata": {},
   "outputs": [],
   "source": [
    "audio,sampling_rate"
   ]
  },
  {
   "cell_type": "code",
   "execution_count": null,
   "metadata": {},
   "outputs": [],
   "source": [
    "# audio\n",
    "display.Audio(\"Medical Speech, Transcription, and Intent/recordings/train/1249120_44142156_69073946.wav\", autoplay=True)"
   ]
  },
  {
   "cell_type": "code",
   "execution_count": null,
   "metadata": {},
   "outputs": [],
   "source": [
    "input_values = tokenizer(audio, return_tensors = 'pt').input_values\n",
    "input_values"
   ]
  },
  {
   "cell_type": "code",
   "execution_count": null,
   "metadata": {},
   "outputs": [],
   "source": [
    "# store logits (non-normalized predictions)\n",
    "logits = model(input_values).logits\n",
    "logits"
   ]
  },
  {
   "cell_type": "code",
   "execution_count": null,
   "metadata": {},
   "outputs": [],
   "source": [
    "# store predicted id's\n",
    "# pass the logit values to softmax to get the predicted values\n",
    "predicted_ids = torch.argmax(logits, dim =-1)"
   ]
  },
  {
   "cell_type": "code",
   "execution_count": null,
   "metadata": {},
   "outputs": [],
   "source": [
    "# pass the prediction to the tokenzer decode to get the transcription\n",
    "transcriptions = tokenizer.decode(predicted_ids[0])"
   ]
  },
  {
   "cell_type": "code",
   "execution_count": null,
   "metadata": {},
   "outputs": [],
   "source": [
    "transcriptions"
   ]
  },
  {
   "cell_type": "code",
   "execution_count": 2,
   "metadata": {},
   "outputs": [],
   "source": [
    "import librosa\n",
    "import torch\n",
    "import IPython.display as display\n",
    "from transformers import Wav2Vec2ForCTC, Wav2Vec2Tokenizer\n",
    "import numpy as np\n",
    "from os import listdir\n",
    "import pandas as pd\n"
   ]
  },
  {
   "cell_type": "code",
   "execution_count": 2,
   "metadata": {},
   "outputs": [
    {
     "name": "stderr",
     "output_type": "stream",
     "text": [
      "The tokenizer class you load from this checkpoint is not the same type as the class this function is called from. It may result in unexpected tokenization. \n",
      "The tokenizer class you load from this checkpoint is 'Wav2Vec2CTCTokenizer'. \n",
      "The class this function is called from is 'Wav2Vec2Tokenizer'.\n",
      "/Users/shanmukhasreenivas/Library/Python/3.9/lib/python/site-packages/transformers/models/wav2vec2/tokenization_wav2vec2.py:733: FutureWarning: The class `Wav2Vec2Tokenizer` is deprecated and will be removed in version 5 of Transformers. Please use `Wav2Vec2Processor` or `Wav2Vec2CTCTokenizer` instead.\n",
      "  warnings.warn(\n",
      "Some weights of the model checkpoint at facebook/wav2vec2-base-960h were not used when initializing Wav2Vec2ForCTC: ['wav2vec2.encoder.pos_conv_embed.conv.weight_g', 'wav2vec2.encoder.pos_conv_embed.conv.weight_v']\n",
      "- This IS expected if you are initializing Wav2Vec2ForCTC from the checkpoint of a model trained on another task or with another architecture (e.g. initializing a BertForSequenceClassification model from a BertForPreTraining model).\n",
      "- This IS NOT expected if you are initializing Wav2Vec2ForCTC from the checkpoint of a model that you expect to be exactly identical (initializing a BertForSequenceClassification model from a BertForSequenceClassification model).\n",
      "Some weights of Wav2Vec2ForCTC were not initialized from the model checkpoint at facebook/wav2vec2-base-960h and are newly initialized: ['wav2vec2.encoder.pos_conv_embed.conv.parametrizations.weight.original0', 'wav2vec2.encoder.pos_conv_embed.conv.parametrizations.weight.original1', 'wav2vec2.masked_spec_embed']\n",
      "You should probably TRAIN this model on a down-stream task to be able to use it for predictions and inference.\n"
     ]
    }
   ],
   "source": [
    "#load pre-trained model and tokenizer\n",
    "tokenizer = Wav2Vec2Tokenizer.from_pretrained(\"facebook/wav2vec2-base-960h\")\n",
    "model = Wav2Vec2ForCTC.from_pretrained(\"facebook/wav2vec2-base-960h\")"
   ]
  },
  {
   "cell_type": "code",
   "execution_count": 3,
   "metadata": {},
   "outputs": [],
   "source": [
    "def speechToText(filename):\n",
    "    audio, sampling_rate = librosa.load(filename,sr=16000)\n",
    "    input_values = tokenizer(audio, return_tensors = 'pt').input_values\n",
    "    logits = model(input_values).logits\n",
    "    predicted_ids = torch.argmax(logits, dim =-1)\n",
    "    transcriptions = tokenizer.decode(predicted_ids[0])\n",
    "    return transcriptions"
   ]
  },
  {
   "cell_type": "code",
   "execution_count": null,
   "metadata": {},
   "outputs": [],
   "source": [
    "# train_files = listdir(\"Medical Speech, Transcription, and Intent/recordings/test\")\n",
    "test_files = listdir(\"Medical Speech, Transcription, and Intent/recordings/train\")\n",
    "# validation_files = listdir(\"Medical Speech, Transcription, and Intent/recordings/validate\")\n",
    "\n",
    "df_train = pd.DataFrame()\n",
    "suffix_train = \"Medical Speech, Transcription, and Intent/recordings/train/\"\n",
    "transcriptions = []\n",
    "for row in test_files:\n",
    "    transcriptions.append(speechToText(str(suffix_train + row)))\n",
    "\n",
    "df_train[\"filename\"] = test_files\n",
    "df_train[\"transcriptions\"] = transcriptions\n",
    "# df_test = pd.DataFrame()\n",
    "# df_train[\"filename\"] = train_files\n",
    "\n",
    "# df_train = pd.DataFrame()\n",
    "# df_train[\"filename\"] = train_files"
   ]
  },
  {
   "cell_type": "code",
   "execution_count": 5,
   "metadata": {},
   "outputs": [],
   "source": [
    "df_train = pd.read_csv(\"sample_transcriptions.csv\")"
   ]
  },
  {
   "cell_type": "code",
   "execution_count": 3,
   "metadata": {},
   "outputs": [
    {
     "name": "stderr",
     "output_type": "stream",
     "text": [
      "Some weights of ElectraForMaskedLM were not initialized from the model checkpoint at google/electra-base-discriminator and are newly initialized: ['generator_lm_head.bias', 'generator_predictions.LayerNorm.bias', 'generator_predictions.LayerNorm.weight', 'generator_predictions.dense.bias', 'generator_predictions.dense.weight']\n",
      "You should probably TRAIN this model on a down-stream task to be able to use it for predictions and inference.\n"
     ]
    },
    {
     "name": "stdout",
     "output_type": "stream",
     "text": [
      "Original: I have a pen, I have an apple, [MASK] apple pen.\n",
      "Corrected: coughed ##fra bodily ##fra ##ifice bravo serial antoine elevators liberia ##points ##erus ##fra ##fra\n",
      "\n",
      "Original: He is go to the school.\n",
      "Corrected: ##olo elevators ##fra ##ivo flats ##fra ##fra\n",
      "\n"
     ]
    }
   ],
   "source": [
    "from transformers import ElectraForMaskedLM, ElectraTokenizer\n",
    "\n",
    "# Load pre-trained ELECTRA model and tokenizer\n",
    "model_name = 'google/electra-base-discriminator'  # Use ELECTRA base model\n",
    "model = ElectraForMaskedLM.from_pretrained(model_name)\n",
    "tokenizer = ElectraTokenizer.from_pretrained(model_name)\n",
    "\n",
    "# Function to correct sentences using ELECTRA\n",
    "def correct_sentences(sentences):\n",
    "    corrected_sentences = []\n",
    "    for sentence in sentences:\n",
    "        # Replace [MASK] with the appropriate masking token recognized by ELECTRA\n",
    "        sentence = sentence.replace(\"[MASK]\", tokenizer.mask_token)\n",
    "        \n",
    "        # Tokenize the sentence\n",
    "        tokenized_sentence = tokenizer.tokenize(sentence)\n",
    "        \n",
    "        # Convert tokenized sentence to IDs\n",
    "        indexed_tokens = tokenizer.convert_tokens_to_ids(tokenized_sentence)\n",
    "        \n",
    "        # Convert token IDs to tensor\n",
    "        tokens_tensor = torch.tensor([indexed_tokens])\n",
    "        \n",
    "        # Predict token probabilities\n",
    "        with torch.no_grad():\n",
    "            outputs = model(tokens_tensor)\n",
    "            predictions = outputs[0]\n",
    "        \n",
    "        # Get the predicted token IDs for each token position\n",
    "        predicted_token_ids = torch.argmax(predictions, dim=2)[0]\n",
    "        \n",
    "        # Convert token IDs back to tokens\n",
    "        predicted_tokens = tokenizer.convert_ids_to_tokens(predicted_token_ids)\n",
    "        \n",
    "        # Filter out special tokens and join the corrected words into a sentence\n",
    "        corrected_sentence = ' '.join(token for token in predicted_tokens if token not in tokenizer.all_special_tokens)\n",
    "        \n",
    "        # Append the corrected sentence to the list\n",
    "        corrected_sentences.append(corrected_sentence)\n",
    "    \n",
    "    return corrected_sentences\n",
    "\n",
    "# Example sentences\n",
    "sentences = [\"I have a pen, I have an apple, [MASK] apple pen.\", \"He is go to the school.\"]\n",
    "# Correct the sentences\n",
    "corrected_sentences = correct_sentences(sentences)\n",
    "\n",
    "# Print the original and corrected sentences\n",
    "for original, corrected in zip(sentences, corrected_sentences):\n",
    "    print(\"Original:\", original)\n",
    "    print(\"Corrected:\", corrected)\n",
    "    print()\n"
   ]
  },
  {
   "cell_type": "markdown",
   "metadata": {},
   "source": [
    "## Mapping the audios to their respective prompts"
   ]
  },
  {
   "cell_type": "code",
   "execution_count": 1,
   "metadata": {},
   "outputs": [],
   "source": [
    "import numpy as np\n",
    "import matplotlib.pyplot as plt\n",
    "import pandas as pd\n",
    "import IPython.display as display\n",
    "import librosa\n",
    "from glob import glob\n",
    "from tqdm import tqdm"
   ]
  },
  {
   "cell_type": "code",
   "execution_count": 2,
   "metadata": {},
   "outputs": [],
   "source": [
    "def create_melspectrogram(filename,name):\n",
    "    plt.interactive(False)\n",
    "    clip, sample_rate = librosa.load(filename, sr=None)\n",
    "    fig = plt.figure(figsize=[0.72,0.72])\n",
    "    ax = fig.add_subplot(111)\n",
    "    ax.axes.get_xaxis().set_visible(False)\n",
    "    ax.axes.get_yaxis().set_visible(False)\n",
    "    ax.set_frame_on(False)\n",
    "    S = librosa.feature.melspectrogram(y=clip, sr=sample_rate)\n",
    "    librosa.display.specshow(librosa.power_to_db(S, ref=np.max))\n",
    "    filename = 'Medical Speech, Transcription, and Intent/spectrograms/' + name + '.jpg'\n",
    "    plt.savefig(filename, dpi=400, bbox_inches='tight',pad_inches=0)\n",
    "    plt.close()    \n",
    "    fig.clf()\n",
    "    plt.close(fig)\n",
    "    plt.close('all')\n",
    "    del filename,name,clip,sample_rate,fig,ax,S"
   ]
  },
  {
   "cell_type": "code",
   "execution_count": 3,
   "metadata": {},
   "outputs": [
    {
     "name": "stderr",
     "output_type": "stream",
     "text": [
      "  2%|▏         | 112/5895 [00:19<15:52,  6.07it/s]/Users/shanmukhasreenivas/Library/Python/3.9/lib/python/site-packages/librosa/feature/spectral.py:2143: UserWarning: Empty filters detected in mel frequency basis. Some channels will produce empty responses. Try increasing your sampling rate (and fmax) or reducing n_mels.\n",
      "  mel_basis = filters.mel(sr=sr, n_fft=n_fft, **kwargs)\n",
      "  4%|▎         | 211/5895 [00:32<14:38,  6.47it/s]/Users/shanmukhasreenivas/Library/Python/3.9/lib/python/site-packages/librosa/feature/spectral.py:2143: UserWarning: Empty filters detected in mel frequency basis. Some channels will produce empty responses. Try increasing your sampling rate (and fmax) or reducing n_mels.\n",
      "  mel_basis = filters.mel(sr=sr, n_fft=n_fft, **kwargs)\n",
      "  4%|▎         | 218/5895 [00:33<15:57,  5.93it/s]/Users/shanmukhasreenivas/Library/Python/3.9/lib/python/site-packages/librosa/feature/spectral.py:2143: UserWarning: Empty filters detected in mel frequency basis. Some channels will produce empty responses. Try increasing your sampling rate (and fmax) or reducing n_mels.\n",
      "  mel_basis = filters.mel(sr=sr, n_fft=n_fft, **kwargs)\n",
      "  4%|▍         | 262/5895 [00:39<09:16, 10.13it/s]/Users/shanmukhasreenivas/Library/Python/3.9/lib/python/site-packages/librosa/feature/spectral.py:2143: UserWarning: Empty filters detected in mel frequency basis. Some channels will produce empty responses. Try increasing your sampling rate (and fmax) or reducing n_mels.\n",
      "  mel_basis = filters.mel(sr=sr, n_fft=n_fft, **kwargs)\n",
      "  5%|▍         | 291/5895 [00:43<11:44,  7.95it/s]/Users/shanmukhasreenivas/Library/Python/3.9/lib/python/site-packages/librosa/feature/spectral.py:2143: UserWarning: Empty filters detected in mel frequency basis. Some channels will produce empty responses. Try increasing your sampling rate (and fmax) or reducing n_mels.\n",
      "  mel_basis = filters.mel(sr=sr, n_fft=n_fft, **kwargs)\n",
      "  6%|▌         | 339/5895 [00:49<12:26,  7.44it/s]/Users/shanmukhasreenivas/Library/Python/3.9/lib/python/site-packages/librosa/feature/spectral.py:2143: UserWarning: Empty filters detected in mel frequency basis. Some channels will produce empty responses. Try increasing your sampling rate (and fmax) or reducing n_mels.\n",
      "  mel_basis = filters.mel(sr=sr, n_fft=n_fft, **kwargs)\n",
      "  7%|▋         | 418/5895 [01:00<15:37,  5.84it/s]/Users/shanmukhasreenivas/Library/Python/3.9/lib/python/site-packages/librosa/feature/spectral.py:2143: UserWarning: Empty filters detected in mel frequency basis. Some channels will produce empty responses. Try increasing your sampling rate (and fmax) or reducing n_mels.\n",
      "  mel_basis = filters.mel(sr=sr, n_fft=n_fft, **kwargs)\n",
      "  8%|▊         | 493/5895 [01:09<13:28,  6.68it/s]/Users/shanmukhasreenivas/Library/Python/3.9/lib/python/site-packages/librosa/feature/spectral.py:2143: UserWarning: Empty filters detected in mel frequency basis. Some channels will produce empty responses. Try increasing your sampling rate (and fmax) or reducing n_mels.\n",
      "  mel_basis = filters.mel(sr=sr, n_fft=n_fft, **kwargs)\n",
      "  9%|▉         | 552/5895 [01:17<15:47,  5.64it/s]/Users/shanmukhasreenivas/Library/Python/3.9/lib/python/site-packages/librosa/feature/spectral.py:2143: UserWarning: Empty filters detected in mel frequency basis. Some channels will produce empty responses. Try increasing your sampling rate (and fmax) or reducing n_mels.\n",
      "  mel_basis = filters.mel(sr=sr, n_fft=n_fft, **kwargs)\n",
      " 10%|█         | 590/5895 [01:24<13:42,  6.45it/s]/Users/shanmukhasreenivas/Library/Python/3.9/lib/python/site-packages/librosa/feature/spectral.py:2143: UserWarning: Empty filters detected in mel frequency basis. Some channels will produce empty responses. Try increasing your sampling rate (and fmax) or reducing n_mels.\n",
      "  mel_basis = filters.mel(sr=sr, n_fft=n_fft, **kwargs)\n",
      " 10%|█         | 593/5895 [01:24<15:11,  5.82it/s]/Users/shanmukhasreenivas/Library/Python/3.9/lib/python/site-packages/librosa/feature/spectral.py:2143: UserWarning: Empty filters detected in mel frequency basis. Some channels will produce empty responses. Try increasing your sampling rate (and fmax) or reducing n_mels.\n",
      "  mel_basis = filters.mel(sr=sr, n_fft=n_fft, **kwargs)\n",
      " 11%|█         | 646/5895 [01:32<09:02,  9.67it/s]/Users/shanmukhasreenivas/Library/Python/3.9/lib/python/site-packages/librosa/feature/spectral.py:2143: UserWarning: Empty filters detected in mel frequency basis. Some channels will produce empty responses. Try increasing your sampling rate (and fmax) or reducing n_mels.\n",
      "  mel_basis = filters.mel(sr=sr, n_fft=n_fft, **kwargs)\n",
      " 15%|█▍        | 856/5895 [02:00<12:16,  6.84it/s]/Users/shanmukhasreenivas/Library/Python/3.9/lib/python/site-packages/librosa/feature/spectral.py:2143: UserWarning: Empty filters detected in mel frequency basis. Some channels will produce empty responses. Try increasing your sampling rate (and fmax) or reducing n_mels.\n",
      "  mel_basis = filters.mel(sr=sr, n_fft=n_fft, **kwargs)\n",
      " 15%|█▍        | 863/5895 [02:01<12:30,  6.70it/s]/Users/shanmukhasreenivas/Library/Python/3.9/lib/python/site-packages/librosa/feature/spectral.py:2143: UserWarning: Empty filters detected in mel frequency basis. Some channels will produce empty responses. Try increasing your sampling rate (and fmax) or reducing n_mels.\n",
      "  mel_basis = filters.mel(sr=sr, n_fft=n_fft, **kwargs)\n",
      " 16%|█▌        | 945/5895 [02:10<08:06, 10.18it/s]/Users/shanmukhasreenivas/Library/Python/3.9/lib/python/site-packages/librosa/feature/spectral.py:2143: UserWarning: Empty filters detected in mel frequency basis. Some channels will produce empty responses. Try increasing your sampling rate (and fmax) or reducing n_mels.\n",
      "  mel_basis = filters.mel(sr=sr, n_fft=n_fft, **kwargs)\n",
      " 18%|█▊        | 1079/5895 [02:30<10:26,  7.69it/s]/Users/shanmukhasreenivas/Library/Python/3.9/lib/python/site-packages/librosa/feature/spectral.py:2143: UserWarning: Empty filters detected in mel frequency basis. Some channels will produce empty responses. Try increasing your sampling rate (and fmax) or reducing n_mels.\n",
      "  mel_basis = filters.mel(sr=sr, n_fft=n_fft, **kwargs)\n",
      " 19%|█▉        | 1144/5895 [02:38<10:47,  7.34it/s]/Users/shanmukhasreenivas/Library/Python/3.9/lib/python/site-packages/librosa/feature/spectral.py:2143: UserWarning: Empty filters detected in mel frequency basis. Some channels will produce empty responses. Try increasing your sampling rate (and fmax) or reducing n_mels.\n",
      "  mel_basis = filters.mel(sr=sr, n_fft=n_fft, **kwargs)\n",
      " 22%|██▏       | 1301/5895 [03:01<15:50,  4.84it/s]/Users/shanmukhasreenivas/Library/Python/3.9/lib/python/site-packages/librosa/feature/spectral.py:2143: UserWarning: Empty filters detected in mel frequency basis. Some channels will produce empty responses. Try increasing your sampling rate (and fmax) or reducing n_mels.\n",
      "  mel_basis = filters.mel(sr=sr, n_fft=n_fft, **kwargs)\n",
      " 25%|██▍       | 1453/5895 [03:22<08:16,  8.94it/s]/Users/shanmukhasreenivas/Library/Python/3.9/lib/python/site-packages/librosa/feature/spectral.py:2143: UserWarning: Empty filters detected in mel frequency basis. Some channels will produce empty responses. Try increasing your sampling rate (and fmax) or reducing n_mels.\n",
      "  mel_basis = filters.mel(sr=sr, n_fft=n_fft, **kwargs)\n",
      " 27%|██▋       | 1593/5895 [03:37<06:18, 11.36it/s]/Users/shanmukhasreenivas/Library/Python/3.9/lib/python/site-packages/librosa/feature/spectral.py:2143: UserWarning: Empty filters detected in mel frequency basis. Some channels will produce empty responses. Try increasing your sampling rate (and fmax) or reducing n_mels.\n",
      "  mel_basis = filters.mel(sr=sr, n_fft=n_fft, **kwargs)\n",
      " 27%|██▋       | 1599/5895 [03:38<09:06,  7.85it/s]/Users/shanmukhasreenivas/Library/Python/3.9/lib/python/site-packages/librosa/feature/spectral.py:2143: UserWarning: Empty filters detected in mel frequency basis. Some channels will produce empty responses. Try increasing your sampling rate (and fmax) or reducing n_mels.\n",
      "  mel_basis = filters.mel(sr=sr, n_fft=n_fft, **kwargs)\n",
      " 28%|██▊       | 1625/5895 [03:41<07:47,  9.14it/s]/Users/shanmukhasreenivas/Library/Python/3.9/lib/python/site-packages/librosa/feature/spectral.py:2143: UserWarning: Empty filters detected in mel frequency basis. Some channels will produce empty responses. Try increasing your sampling rate (and fmax) or reducing n_mels.\n",
      "  mel_basis = filters.mel(sr=sr, n_fft=n_fft, **kwargs)\n",
      " 28%|██▊       | 1667/5895 [03:46<08:56,  7.88it/s]/Users/shanmukhasreenivas/Library/Python/3.9/lib/python/site-packages/librosa/feature/spectral.py:2143: UserWarning: Empty filters detected in mel frequency basis. Some channels will produce empty responses. Try increasing your sampling rate (and fmax) or reducing n_mels.\n",
      "  mel_basis = filters.mel(sr=sr, n_fft=n_fft, **kwargs)\n",
      " 31%|███       | 1817/5895 [04:02<07:08,  9.51it/s]/Users/shanmukhasreenivas/Library/Python/3.9/lib/python/site-packages/librosa/feature/spectral.py:2143: UserWarning: Empty filters detected in mel frequency basis. Some channels will produce empty responses. Try increasing your sampling rate (and fmax) or reducing n_mels.\n",
      "  mel_basis = filters.mel(sr=sr, n_fft=n_fft, **kwargs)\n",
      " 31%|███       | 1827/5895 [04:03<07:56,  8.53it/s]/Users/shanmukhasreenivas/Library/Python/3.9/lib/python/site-packages/librosa/feature/spectral.py:2143: UserWarning: Empty filters detected in mel frequency basis. Some channels will produce empty responses. Try increasing your sampling rate (and fmax) or reducing n_mels.\n",
      "  mel_basis = filters.mel(sr=sr, n_fft=n_fft, **kwargs)\n",
      " 32%|███▏      | 1881/5895 [04:09<06:10, 10.83it/s]/Users/shanmukhasreenivas/Library/Python/3.9/lib/python/site-packages/librosa/feature/spectral.py:2143: UserWarning: Empty filters detected in mel frequency basis. Some channels will produce empty responses. Try increasing your sampling rate (and fmax) or reducing n_mels.\n",
      "  mel_basis = filters.mel(sr=sr, n_fft=n_fft, **kwargs)\n",
      " 34%|███▍      | 2027/5895 [04:26<06:19, 10.21it/s]/Users/shanmukhasreenivas/Library/Python/3.9/lib/python/site-packages/librosa/feature/spectral.py:2143: UserWarning: Empty filters detected in mel frequency basis. Some channels will produce empty responses. Try increasing your sampling rate (and fmax) or reducing n_mels.\n",
      "  mel_basis = filters.mel(sr=sr, n_fft=n_fft, **kwargs)\n",
      " 36%|███▌      | 2095/5895 [04:34<06:13, 10.16it/s]/Users/shanmukhasreenivas/Library/Python/3.9/lib/python/site-packages/librosa/feature/spectral.py:2143: UserWarning: Empty filters detected in mel frequency basis. Some channels will produce empty responses. Try increasing your sampling rate (and fmax) or reducing n_mels.\n",
      "  mel_basis = filters.mel(sr=sr, n_fft=n_fft, **kwargs)\n",
      " 38%|███▊      | 2223/5895 [04:47<05:46, 10.60it/s]/Users/shanmukhasreenivas/Library/Python/3.9/lib/python/site-packages/librosa/feature/spectral.py:2143: UserWarning: Empty filters detected in mel frequency basis. Some channels will produce empty responses. Try increasing your sampling rate (and fmax) or reducing n_mels.\n",
      "  mel_basis = filters.mel(sr=sr, n_fft=n_fft, **kwargs)\n",
      " 40%|████      | 2361/5895 [05:02<06:53,  8.55it/s]/Users/shanmukhasreenivas/Library/Python/3.9/lib/python/site-packages/librosa/feature/spectral.py:2143: UserWarning: Empty filters detected in mel frequency basis. Some channels will produce empty responses. Try increasing your sampling rate (and fmax) or reducing n_mels.\n",
      "  mel_basis = filters.mel(sr=sr, n_fft=n_fft, **kwargs)\n",
      " 41%|████      | 2408/5895 [05:07<05:37, 10.33it/s]/Users/shanmukhasreenivas/Library/Python/3.9/lib/python/site-packages/librosa/feature/spectral.py:2143: UserWarning: Empty filters detected in mel frequency basis. Some channels will produce empty responses. Try increasing your sampling rate (and fmax) or reducing n_mels.\n",
      "  mel_basis = filters.mel(sr=sr, n_fft=n_fft, **kwargs)\n",
      " 42%|████▏     | 2451/5895 [05:14<08:21,  6.86it/s]/Users/shanmukhasreenivas/Library/Python/3.9/lib/python/site-packages/librosa/feature/spectral.py:2143: UserWarning: Empty filters detected in mel frequency basis. Some channels will produce empty responses. Try increasing your sampling rate (and fmax) or reducing n_mels.\n",
      "  mel_basis = filters.mel(sr=sr, n_fft=n_fft, **kwargs)\n",
      " 42%|████▏     | 2487/5895 [05:19<06:41,  8.49it/s]/Users/shanmukhasreenivas/Library/Python/3.9/lib/python/site-packages/librosa/feature/spectral.py:2143: UserWarning: Empty filters detected in mel frequency basis. Some channels will produce empty responses. Try increasing your sampling rate (and fmax) or reducing n_mels.\n",
      "  mel_basis = filters.mel(sr=sr, n_fft=n_fft, **kwargs)\n",
      " 43%|████▎     | 2557/5895 [05:27<06:04,  9.17it/s]/Users/shanmukhasreenivas/Library/Python/3.9/lib/python/site-packages/librosa/feature/spectral.py:2143: UserWarning: Empty filters detected in mel frequency basis. Some channels will produce empty responses. Try increasing your sampling rate (and fmax) or reducing n_mels.\n",
      "  mel_basis = filters.mel(sr=sr, n_fft=n_fft, **kwargs)\n",
      " 44%|████▎     | 2565/5895 [05:28<06:49,  8.14it/s]/Users/shanmukhasreenivas/Library/Python/3.9/lib/python/site-packages/librosa/feature/spectral.py:2143: UserWarning: Empty filters detected in mel frequency basis. Some channels will produce empty responses. Try increasing your sampling rate (and fmax) or reducing n_mels.\n",
      "  mel_basis = filters.mel(sr=sr, n_fft=n_fft, **kwargs)\n",
      " 44%|████▍     | 2604/5895 [05:33<08:16,  6.62it/s]/Users/shanmukhasreenivas/Library/Python/3.9/lib/python/site-packages/librosa/feature/spectral.py:2143: UserWarning: Empty filters detected in mel frequency basis. Some channels will produce empty responses. Try increasing your sampling rate (and fmax) or reducing n_mels.\n",
      "  mel_basis = filters.mel(sr=sr, n_fft=n_fft, **kwargs)\n",
      " 45%|████▌     | 2656/5895 [05:40<06:44,  8.01it/s]/Users/shanmukhasreenivas/Library/Python/3.9/lib/python/site-packages/librosa/feature/spectral.py:2143: UserWarning: Empty filters detected in mel frequency basis. Some channels will produce empty responses. Try increasing your sampling rate (and fmax) or reducing n_mels.\n",
      "  mel_basis = filters.mel(sr=sr, n_fft=n_fft, **kwargs)\n",
      " 45%|████▌     | 2668/5895 [05:42<06:07,  8.79it/s]/Users/shanmukhasreenivas/Library/Python/3.9/lib/python/site-packages/librosa/feature/spectral.py:2143: UserWarning: Empty filters detected in mel frequency basis. Some channels will produce empty responses. Try increasing your sampling rate (and fmax) or reducing n_mels.\n",
      "  mel_basis = filters.mel(sr=sr, n_fft=n_fft, **kwargs)\n",
      " 45%|████▌     | 2672/5895 [05:42<08:19,  6.45it/s]/Users/shanmukhasreenivas/Library/Python/3.9/lib/python/site-packages/librosa/feature/spectral.py:2143: UserWarning: Empty filters detected in mel frequency basis. Some channels will produce empty responses. Try increasing your sampling rate (and fmax) or reducing n_mels.\n",
      "  mel_basis = filters.mel(sr=sr, n_fft=n_fft, **kwargs)\n",
      " 46%|████▌     | 2684/5895 [05:44<06:07,  8.75it/s]/Users/shanmukhasreenivas/Library/Python/3.9/lib/python/site-packages/librosa/feature/spectral.py:2143: UserWarning: Empty filters detected in mel frequency basis. Some channels will produce empty responses. Try increasing your sampling rate (and fmax) or reducing n_mels.\n",
      "  mel_basis = filters.mel(sr=sr, n_fft=n_fft, **kwargs)\n",
      " 46%|████▌     | 2691/5895 [05:45<07:09,  7.45it/s]/Users/shanmukhasreenivas/Library/Python/3.9/lib/python/site-packages/librosa/feature/spectral.py:2143: UserWarning: Empty filters detected in mel frequency basis. Some channels will produce empty responses. Try increasing your sampling rate (and fmax) or reducing n_mels.\n",
      "  mel_basis = filters.mel(sr=sr, n_fft=n_fft, **kwargs)\n",
      " 47%|████▋     | 2743/5895 [05:51<05:08, 10.22it/s]/Users/shanmukhasreenivas/Library/Python/3.9/lib/python/site-packages/librosa/feature/spectral.py:2143: UserWarning: Empty filters detected in mel frequency basis. Some channels will produce empty responses. Try increasing your sampling rate (and fmax) or reducing n_mels.\n",
      "  mel_basis = filters.mel(sr=sr, n_fft=n_fft, **kwargs)\n",
      " 47%|████▋     | 2753/5895 [05:52<06:51,  7.64it/s]/Users/shanmukhasreenivas/Library/Python/3.9/lib/python/site-packages/librosa/feature/spectral.py:2143: UserWarning: Empty filters detected in mel frequency basis. Some channels will produce empty responses. Try increasing your sampling rate (and fmax) or reducing n_mels.\n",
      "  mel_basis = filters.mel(sr=sr, n_fft=n_fft, **kwargs)\n",
      " 49%|████▉     | 2885/5895 [06:12<06:07,  8.18it/s]/Users/shanmukhasreenivas/Library/Python/3.9/lib/python/site-packages/librosa/feature/spectral.py:2143: UserWarning: Empty filters detected in mel frequency basis. Some channels will produce empty responses. Try increasing your sampling rate (and fmax) or reducing n_mels.\n",
      "  mel_basis = filters.mel(sr=sr, n_fft=n_fft, **kwargs)\n",
      " 49%|████▉     | 2915/5895 [06:15<04:56, 10.04it/s]/Users/shanmukhasreenivas/Library/Python/3.9/lib/python/site-packages/librosa/feature/spectral.py:2143: UserWarning: Empty filters detected in mel frequency basis. Some channels will produce empty responses. Try increasing your sampling rate (and fmax) or reducing n_mels.\n",
      "  mel_basis = filters.mel(sr=sr, n_fft=n_fft, **kwargs)\n",
      " 50%|████▉     | 2932/5895 [06:17<05:06,  9.65it/s]/Users/shanmukhasreenivas/Library/Python/3.9/lib/python/site-packages/librosa/feature/spectral.py:2143: UserWarning: Empty filters detected in mel frequency basis. Some channels will produce empty responses. Try increasing your sampling rate (and fmax) or reducing n_mels.\n",
      "  mel_basis = filters.mel(sr=sr, n_fft=n_fft, **kwargs)\n",
      " 51%|█████     | 2977/5895 [06:22<05:19,  9.13it/s]/Users/shanmukhasreenivas/Library/Python/3.9/lib/python/site-packages/librosa/feature/spectral.py:2143: UserWarning: Empty filters detected in mel frequency basis. Some channels will produce empty responses. Try increasing your sampling rate (and fmax) or reducing n_mels.\n",
      "  mel_basis = filters.mel(sr=sr, n_fft=n_fft, **kwargs)\n",
      " 52%|█████▏    | 3059/5895 [06:31<05:52,  8.05it/s]/Users/shanmukhasreenivas/Library/Python/3.9/lib/python/site-packages/librosa/feature/spectral.py:2143: UserWarning: Empty filters detected in mel frequency basis. Some channels will produce empty responses. Try increasing your sampling rate (and fmax) or reducing n_mels.\n",
      "  mel_basis = filters.mel(sr=sr, n_fft=n_fft, **kwargs)\n",
      " 53%|█████▎    | 3104/5895 [06:37<06:24,  7.25it/s]/Users/shanmukhasreenivas/Library/Python/3.9/lib/python/site-packages/librosa/feature/spectral.py:2143: UserWarning: Empty filters detected in mel frequency basis. Some channels will produce empty responses. Try increasing your sampling rate (and fmax) or reducing n_mels.\n",
      "  mel_basis = filters.mel(sr=sr, n_fft=n_fft, **kwargs)\n",
      " 53%|█████▎    | 3128/5895 [06:40<05:50,  7.89it/s]/Users/shanmukhasreenivas/Library/Python/3.9/lib/python/site-packages/librosa/feature/spectral.py:2143: UserWarning: Empty filters detected in mel frequency basis. Some channels will produce empty responses. Try increasing your sampling rate (and fmax) or reducing n_mels.\n",
      "  mel_basis = filters.mel(sr=sr, n_fft=n_fft, **kwargs)\n",
      " 53%|█████▎    | 3135/5895 [06:41<06:04,  7.58it/s]/Users/shanmukhasreenivas/Library/Python/3.9/lib/python/site-packages/librosa/feature/spectral.py:2143: UserWarning: Empty filters detected in mel frequency basis. Some channels will produce empty responses. Try increasing your sampling rate (and fmax) or reducing n_mels.\n",
      "  mel_basis = filters.mel(sr=sr, n_fft=n_fft, **kwargs)\n",
      " 54%|█████▍    | 3188/5895 [06:48<06:12,  7.27it/s]/Users/shanmukhasreenivas/Library/Python/3.9/lib/python/site-packages/librosa/feature/spectral.py:2143: UserWarning: Empty filters detected in mel frequency basis. Some channels will produce empty responses. Try increasing your sampling rate (and fmax) or reducing n_mels.\n",
      "  mel_basis = filters.mel(sr=sr, n_fft=n_fft, **kwargs)\n",
      " 55%|█████▌    | 3258/5895 [06:56<05:26,  8.08it/s]/Users/shanmukhasreenivas/Library/Python/3.9/lib/python/site-packages/librosa/feature/spectral.py:2143: UserWarning: Empty filters detected in mel frequency basis. Some channels will produce empty responses. Try increasing your sampling rate (and fmax) or reducing n_mels.\n",
      "  mel_basis = filters.mel(sr=sr, n_fft=n_fft, **kwargs)\n",
      " 56%|█████▌    | 3279/5895 [06:59<04:38,  9.40it/s]/Users/shanmukhasreenivas/Library/Python/3.9/lib/python/site-packages/librosa/feature/spectral.py:2143: UserWarning: Empty filters detected in mel frequency basis. Some channels will produce empty responses. Try increasing your sampling rate (and fmax) or reducing n_mels.\n",
      "  mel_basis = filters.mel(sr=sr, n_fft=n_fft, **kwargs)\n",
      " 56%|█████▋    | 3326/5895 [07:04<05:03,  8.45it/s]/Users/shanmukhasreenivas/Library/Python/3.9/lib/python/site-packages/librosa/feature/spectral.py:2143: UserWarning: Empty filters detected in mel frequency basis. Some channels will produce empty responses. Try increasing your sampling rate (and fmax) or reducing n_mels.\n",
      "  mel_basis = filters.mel(sr=sr, n_fft=n_fft, **kwargs)\n",
      " 58%|█████▊    | 3409/5895 [07:14<04:22,  9.47it/s]/Users/shanmukhasreenivas/Library/Python/3.9/lib/python/site-packages/librosa/feature/spectral.py:2143: UserWarning: Empty filters detected in mel frequency basis. Some channels will produce empty responses. Try increasing your sampling rate (and fmax) or reducing n_mels.\n",
      "  mel_basis = filters.mel(sr=sr, n_fft=n_fft, **kwargs)\n",
      " 63%|██████▎   | 3709/5895 [07:49<04:00,  9.08it/s]/Users/shanmukhasreenivas/Library/Python/3.9/lib/python/site-packages/librosa/feature/spectral.py:2143: UserWarning: Empty filters detected in mel frequency basis. Some channels will produce empty responses. Try increasing your sampling rate (and fmax) or reducing n_mels.\n",
      "  mel_basis = filters.mel(sr=sr, n_fft=n_fft, **kwargs)\n",
      " 64%|██████▎   | 3753/5895 [07:59<07:03,  5.06it/s]/Users/shanmukhasreenivas/Library/Python/3.9/lib/python/site-packages/librosa/feature/spectral.py:2143: UserWarning: Empty filters detected in mel frequency basis. Some channels will produce empty responses. Try increasing your sampling rate (and fmax) or reducing n_mels.\n",
      "  mel_basis = filters.mel(sr=sr, n_fft=n_fft, **kwargs)\n",
      " 64%|██████▍   | 3784/5895 [08:03<04:35,  7.67it/s]/Users/shanmukhasreenivas/Library/Python/3.9/lib/python/site-packages/librosa/feature/spectral.py:2143: UserWarning: Empty filters detected in mel frequency basis. Some channels will produce empty responses. Try increasing your sampling rate (and fmax) or reducing n_mels.\n",
      "  mel_basis = filters.mel(sr=sr, n_fft=n_fft, **kwargs)\n",
      " 65%|██████▍   | 3827/5895 [08:08<03:19, 10.36it/s]/Users/shanmukhasreenivas/Library/Python/3.9/lib/python/site-packages/librosa/feature/spectral.py:2143: UserWarning: Empty filters detected in mel frequency basis. Some channels will produce empty responses. Try increasing your sampling rate (and fmax) or reducing n_mels.\n",
      "  mel_basis = filters.mel(sr=sr, n_fft=n_fft, **kwargs)\n",
      " 65%|██████▌   | 3840/5895 [08:09<03:27,  9.90it/s]/Users/shanmukhasreenivas/Library/Python/3.9/lib/python/site-packages/librosa/feature/spectral.py:2143: UserWarning: Empty filters detected in mel frequency basis. Some channels will produce empty responses. Try increasing your sampling rate (and fmax) or reducing n_mels.\n",
      "  mel_basis = filters.mel(sr=sr, n_fft=n_fft, **kwargs)\n",
      " 66%|██████▌   | 3895/5895 [08:16<03:53,  8.56it/s]/Users/shanmukhasreenivas/Library/Python/3.9/lib/python/site-packages/librosa/feature/spectral.py:2143: UserWarning: Empty filters detected in mel frequency basis. Some channels will produce empty responses. Try increasing your sampling rate (and fmax) or reducing n_mels.\n",
      "  mel_basis = filters.mel(sr=sr, n_fft=n_fft, **kwargs)\n",
      " 68%|██████▊   | 3999/5895 [08:29<05:47,  5.45it/s]/Users/shanmukhasreenivas/Library/Python/3.9/lib/python/site-packages/librosa/feature/spectral.py:2143: UserWarning: Empty filters detected in mel frequency basis. Some channels will produce empty responses. Try increasing your sampling rate (and fmax) or reducing n_mels.\n",
      "  mel_basis = filters.mel(sr=sr, n_fft=n_fft, **kwargs)\n",
      " 71%|███████   | 4189/5895 [08:56<04:17,  6.62it/s]/Users/shanmukhasreenivas/Library/Python/3.9/lib/python/site-packages/librosa/feature/spectral.py:2143: UserWarning: Empty filters detected in mel frequency basis. Some channels will produce empty responses. Try increasing your sampling rate (and fmax) or reducing n_mels.\n",
      "  mel_basis = filters.mel(sr=sr, n_fft=n_fft, **kwargs)\n",
      " 72%|███████▏  | 4218/5895 [09:00<05:18,  5.27it/s]/Users/shanmukhasreenivas/Library/Python/3.9/lib/python/site-packages/librosa/feature/spectral.py:2143: UserWarning: Empty filters detected in mel frequency basis. Some channels will produce empty responses. Try increasing your sampling rate (and fmax) or reducing n_mels.\n",
      "  mel_basis = filters.mel(sr=sr, n_fft=n_fft, **kwargs)\n",
      " 72%|███████▏  | 4235/5895 [09:03<04:45,  5.81it/s]/Users/shanmukhasreenivas/Library/Python/3.9/lib/python/site-packages/librosa/feature/spectral.py:2143: UserWarning: Empty filters detected in mel frequency basis. Some channels will produce empty responses. Try increasing your sampling rate (and fmax) or reducing n_mels.\n",
      "  mel_basis = filters.mel(sr=sr, n_fft=n_fft, **kwargs)\n",
      " 76%|███████▌  | 4475/5895 [09:40<03:19,  7.10it/s]/Users/shanmukhasreenivas/Library/Python/3.9/lib/python/site-packages/librosa/feature/spectral.py:2143: UserWarning: Empty filters detected in mel frequency basis. Some channels will produce empty responses. Try increasing your sampling rate (and fmax) or reducing n_mels.\n",
      "  mel_basis = filters.mel(sr=sr, n_fft=n_fft, **kwargs)\n",
      " 77%|███████▋  | 4555/5895 [09:53<04:01,  5.54it/s]/Users/shanmukhasreenivas/Library/Python/3.9/lib/python/site-packages/librosa/feature/spectral.py:2143: UserWarning: Empty filters detected in mel frequency basis. Some channels will produce empty responses. Try increasing your sampling rate (and fmax) or reducing n_mels.\n",
      "  mel_basis = filters.mel(sr=sr, n_fft=n_fft, **kwargs)\n",
      " 80%|███████▉  | 4698/5895 [10:15<02:25,  8.23it/s]/Users/shanmukhasreenivas/Library/Python/3.9/lib/python/site-packages/librosa/feature/spectral.py:2143: UserWarning: Empty filters detected in mel frequency basis. Some channels will produce empty responses. Try increasing your sampling rate (and fmax) or reducing n_mels.\n",
      "  mel_basis = filters.mel(sr=sr, n_fft=n_fft, **kwargs)\n",
      " 81%|████████  | 4747/5895 [10:21<03:02,  6.29it/s]/Users/shanmukhasreenivas/Library/Python/3.9/lib/python/site-packages/librosa/feature/spectral.py:2143: UserWarning: Empty filters detected in mel frequency basis. Some channels will produce empty responses. Try increasing your sampling rate (and fmax) or reducing n_mels.\n",
      "  mel_basis = filters.mel(sr=sr, n_fft=n_fft, **kwargs)\n",
      " 81%|████████  | 4749/5895 [10:22<03:24,  5.62it/s]/Users/shanmukhasreenivas/Library/Python/3.9/lib/python/site-packages/librosa/feature/spectral.py:2143: UserWarning: Empty filters detected in mel frequency basis. Some channels will produce empty responses. Try increasing your sampling rate (and fmax) or reducing n_mels.\n",
      "  mel_basis = filters.mel(sr=sr, n_fft=n_fft, **kwargs)\n",
      " 81%|████████▏ | 4802/5895 [10:29<02:56,  6.18it/s]/Users/shanmukhasreenivas/Library/Python/3.9/lib/python/site-packages/librosa/feature/spectral.py:2143: UserWarning: Empty filters detected in mel frequency basis. Some channels will produce empty responses. Try increasing your sampling rate (and fmax) or reducing n_mels.\n",
      "  mel_basis = filters.mel(sr=sr, n_fft=n_fft, **kwargs)\n",
      " 81%|████████▏ | 4804/5895 [10:30<04:22,  4.16it/s]/Users/shanmukhasreenivas/Library/Python/3.9/lib/python/site-packages/librosa/feature/spectral.py:2143: UserWarning: Empty filters detected in mel frequency basis. Some channels will produce empty responses. Try increasing your sampling rate (and fmax) or reducing n_mels.\n",
      "  mel_basis = filters.mel(sr=sr, n_fft=n_fft, **kwargs)\n",
      " 83%|████████▎ | 4881/5895 [10:43<02:27,  6.89it/s]/Users/shanmukhasreenivas/Library/Python/3.9/lib/python/site-packages/librosa/feature/spectral.py:2143: UserWarning: Empty filters detected in mel frequency basis. Some channels will produce empty responses. Try increasing your sampling rate (and fmax) or reducing n_mels.\n",
      "  mel_basis = filters.mel(sr=sr, n_fft=n_fft, **kwargs)\n",
      " 83%|████████▎ | 4922/5895 [10:49<02:10,  7.45it/s]/Users/shanmukhasreenivas/Library/Python/3.9/lib/python/site-packages/librosa/feature/spectral.py:2143: UserWarning: Empty filters detected in mel frequency basis. Some channels will produce empty responses. Try increasing your sampling rate (and fmax) or reducing n_mels.\n",
      "  mel_basis = filters.mel(sr=sr, n_fft=n_fft, **kwargs)\n",
      " 84%|████████▍ | 4946/5895 [10:52<01:45,  8.96it/s]/Users/shanmukhasreenivas/Library/Python/3.9/lib/python/site-packages/librosa/feature/spectral.py:2143: UserWarning: Empty filters detected in mel frequency basis. Some channels will produce empty responses. Try increasing your sampling rate (and fmax) or reducing n_mels.\n",
      "  mel_basis = filters.mel(sr=sr, n_fft=n_fft, **kwargs)\n",
      " 84%|████████▍ | 4960/5895 [10:54<02:09,  7.21it/s]/Users/shanmukhasreenivas/Library/Python/3.9/lib/python/site-packages/librosa/feature/spectral.py:2143: UserWarning: Empty filters detected in mel frequency basis. Some channels will produce empty responses. Try increasing your sampling rate (and fmax) or reducing n_mels.\n",
      "  mel_basis = filters.mel(sr=sr, n_fft=n_fft, **kwargs)\n",
      " 85%|████████▍ | 5009/5895 [11:02<02:00,  7.33it/s]/Users/shanmukhasreenivas/Library/Python/3.9/lib/python/site-packages/librosa/feature/spectral.py:2143: UserWarning: Empty filters detected in mel frequency basis. Some channels will produce empty responses. Try increasing your sampling rate (and fmax) or reducing n_mels.\n",
      "  mel_basis = filters.mel(sr=sr, n_fft=n_fft, **kwargs)\n",
      " 85%|████████▌ | 5026/5895 [11:04<01:54,  7.59it/s]/Users/shanmukhasreenivas/Library/Python/3.9/lib/python/site-packages/librosa/feature/spectral.py:2143: UserWarning: Empty filters detected in mel frequency basis. Some channels will produce empty responses. Try increasing your sampling rate (and fmax) or reducing n_mels.\n",
      "  mel_basis = filters.mel(sr=sr, n_fft=n_fft, **kwargs)\n",
      " 87%|████████▋ | 5153/5895 [11:21<02:05,  5.89it/s]/Users/shanmukhasreenivas/Library/Python/3.9/lib/python/site-packages/librosa/feature/spectral.py:2143: UserWarning: Empty filters detected in mel frequency basis. Some channels will produce empty responses. Try increasing your sampling rate (and fmax) or reducing n_mels.\n",
      "  mel_basis = filters.mel(sr=sr, n_fft=n_fft, **kwargs)\n",
      " 87%|████████▋ | 5155/5895 [11:22<02:30,  4.90it/s]/Users/shanmukhasreenivas/Library/Python/3.9/lib/python/site-packages/librosa/feature/spectral.py:2143: UserWarning: Empty filters detected in mel frequency basis. Some channels will produce empty responses. Try increasing your sampling rate (and fmax) or reducing n_mels.\n",
      "  mel_basis = filters.mel(sr=sr, n_fft=n_fft, **kwargs)\n",
      " 88%|████████▊ | 5216/5895 [11:31<01:33,  7.24it/s]/Users/shanmukhasreenivas/Library/Python/3.9/lib/python/site-packages/librosa/feature/spectral.py:2143: UserWarning: Empty filters detected in mel frequency basis. Some channels will produce empty responses. Try increasing your sampling rate (and fmax) or reducing n_mels.\n",
      "  mel_basis = filters.mel(sr=sr, n_fft=n_fft, **kwargs)\n",
      " 89%|████████▉ | 5234/5895 [11:34<01:32,  7.17it/s]/Users/shanmukhasreenivas/Library/Python/3.9/lib/python/site-packages/librosa/feature/spectral.py:2143: UserWarning: Empty filters detected in mel frequency basis. Some channels will produce empty responses. Try increasing your sampling rate (and fmax) or reducing n_mels.\n",
      "  mel_basis = filters.mel(sr=sr, n_fft=n_fft, **kwargs)\n",
      " 89%|████████▉ | 5257/5895 [11:37<01:16,  8.30it/s]/Users/shanmukhasreenivas/Library/Python/3.9/lib/python/site-packages/librosa/feature/spectral.py:2143: UserWarning: Empty filters detected in mel frequency basis. Some channels will produce empty responses. Try increasing your sampling rate (and fmax) or reducing n_mels.\n",
      "  mel_basis = filters.mel(sr=sr, n_fft=n_fft, **kwargs)\n",
      " 91%|█████████▏| 5383/5895 [11:54<02:07,  4.00it/s]/Users/shanmukhasreenivas/Library/Python/3.9/lib/python/site-packages/librosa/feature/spectral.py:2143: UserWarning: Empty filters detected in mel frequency basis. Some channels will produce empty responses. Try increasing your sampling rate (and fmax) or reducing n_mels.\n",
      "  mel_basis = filters.mel(sr=sr, n_fft=n_fft, **kwargs)\n",
      " 93%|█████████▎| 5500/5895 [12:12<00:46,  8.46it/s]/Users/shanmukhasreenivas/Library/Python/3.9/lib/python/site-packages/librosa/feature/spectral.py:2143: UserWarning: Empty filters detected in mel frequency basis. Some channels will produce empty responses. Try increasing your sampling rate (and fmax) or reducing n_mels.\n",
      "  mel_basis = filters.mel(sr=sr, n_fft=n_fft, **kwargs)\n",
      " 94%|█████████▎| 5525/5895 [12:16<00:51,  7.12it/s]/Users/shanmukhasreenivas/Library/Python/3.9/lib/python/site-packages/librosa/feature/spectral.py:2143: UserWarning: Empty filters detected in mel frequency basis. Some channels will produce empty responses. Try increasing your sampling rate (and fmax) or reducing n_mels.\n",
      "  mel_basis = filters.mel(sr=sr, n_fft=n_fft, **kwargs)\n",
      " 95%|█████████▍| 5578/5895 [12:22<00:53,  5.87it/s]/Users/shanmukhasreenivas/Library/Python/3.9/lib/python/site-packages/librosa/feature/spectral.py:2143: UserWarning: Empty filters detected in mel frequency basis. Some channels will produce empty responses. Try increasing your sampling rate (and fmax) or reducing n_mels.\n",
      "  mel_basis = filters.mel(sr=sr, n_fft=n_fft, **kwargs)\n",
      " 95%|█████████▍| 5580/5895 [12:23<01:01,  5.09it/s]/Users/shanmukhasreenivas/Library/Python/3.9/lib/python/site-packages/librosa/feature/spectral.py:2143: UserWarning: Empty filters detected in mel frequency basis. Some channels will produce empty responses. Try increasing your sampling rate (and fmax) or reducing n_mels.\n",
      "  mel_basis = filters.mel(sr=sr, n_fft=n_fft, **kwargs)\n",
      " 95%|█████████▌| 5620/5895 [12:29<00:26, 10.31it/s]/Users/shanmukhasreenivas/Library/Python/3.9/lib/python/site-packages/librosa/feature/spectral.py:2143: UserWarning: Empty filters detected in mel frequency basis. Some channels will produce empty responses. Try increasing your sampling rate (and fmax) or reducing n_mels.\n",
      "  mel_basis = filters.mel(sr=sr, n_fft=n_fft, **kwargs)\n",
      " 96%|█████████▋| 5679/5895 [12:39<00:26,  8.21it/s]/Users/shanmukhasreenivas/Library/Python/3.9/lib/python/site-packages/librosa/feature/spectral.py:2143: UserWarning: Empty filters detected in mel frequency basis. Some channels will produce empty responses. Try increasing your sampling rate (and fmax) or reducing n_mels.\n",
      "  mel_basis = filters.mel(sr=sr, n_fft=n_fft, **kwargs)\n",
      " 97%|█████████▋| 5712/5895 [12:44<00:22,  8.25it/s]/Users/shanmukhasreenivas/Library/Python/3.9/lib/python/site-packages/librosa/feature/spectral.py:2143: UserWarning: Empty filters detected in mel frequency basis. Some channels will produce empty responses. Try increasing your sampling rate (and fmax) or reducing n_mels.\n",
      "  mel_basis = filters.mel(sr=sr, n_fft=n_fft, **kwargs)\n",
      "100%|██████████| 5895/5895 [13:13<00:00,  7.42it/s]\n",
      "100%|██████████| 381/381 [00:48<00:00,  7.81it/s]\n",
      "100%|██████████| 385/385 [00:42<00:00,  8.97it/s]\n"
     ]
    }
   ],
   "source": [
    "\n",
    "Data_dir_train=np.array(glob(\"Medical Speech, Transcription, and Intent/recordings/test/*\"))\n",
    "Data_dir_test=np.array(glob(\"Medical Speech, Transcription, and Intent/recordings/train/*\"))\n",
    "Data_dir_val=np.array(glob(\"Medical Speech, Transcription, and Intent/recordings/validate/*\"))\n",
    "\n",
    "for file in tqdm(Data_dir_train):\n",
    "    filename,name = file,file.split('/')[-1].split('.')[0]\n",
    "    create_melspectrogram(filename,name)\n",
    "for file in tqdm(Data_dir_test):\n",
    "    filename,name = file,file.split('/')[-1].split('.')[0]\n",
    "    create_melspectrogram(filename,name)\n",
    "for file in tqdm(Data_dir_val):\n",
    "    filename,name = file,file.split('/')[-1].split('.')[0]\n",
    "    create_melspectrogram(filename,name)"
   ]
  },
  {
   "cell_type": "code",
   "execution_count": 1,
   "metadata": {},
   "outputs": [],
   "source": [
    "import pandas as pd\n",
    "import tensorflow as tf\n",
    "from tensorflow import keras\n",
    "from tensorflow.keras import layers, Sequential\n",
    "from tensorflow.keras.optimizers import Adam\n",
    "from tensorflow.keras.preprocessing.image import ImageDataGenerator\n",
    "from tensorflow.keras.preprocessing.image import img_to_array, load_img\n",
    "from keras.applications import ResNet50\n",
    "from keras.models import Sequential\n",
    "from keras.layers import Dense, GlobalAveragePooling2D"
   ]
  },
  {
   "cell_type": "code",
   "execution_count": 2,
   "metadata": {},
   "outputs": [],
   "source": [
    "df_overview = pd.read_csv(\"Medical Speech, Transcription, and Intent/overview-of-recordings.csv\")\n",
    "df_overview = df_overview[[\"file_name\",\"prompt\"]]\n",
    "df_overview[\"file_name\"] = \"Medical Speech, Transcription, and Intent/spectrograms/\" + df_overview[\"file_name\"].str.split(\".\").str[0] + \".jpg\"\n"
   ]
  },
  {
   "cell_type": "code",
   "execution_count": 3,
   "metadata": {},
   "outputs": [],
   "source": [
    "datagen = ImageDataGenerator(\n",
    "    rescale=1./255,\n",
    "    rotation_range=40,\n",
    "    width_shift_range=0.2,\n",
    "    height_shift_range=0.2,\n",
    "    shear_range=0.2,\n",
    "    zoom_range=0.2,\n",
    "    horizontal_flip=True,\n",
    "    fill_mode='nearest'\n",
    ")"
   ]
  },
  {
   "cell_type": "code",
   "execution_count": 4,
   "metadata": {},
   "outputs": [
    {
     "name": "stdout",
     "output_type": "stream",
     "text": [
      "Found 6661 validated image filenames belonging to 25 classes.\n"
     ]
    }
   ],
   "source": [
    "generator = datagen.flow_from_dataframe(\n",
    "    df_overview,\n",
    "    x_col='file_name',\n",
    "    y_col='prompt',\n",
    "    target_size=(150, 150),  # Adjust to match your model's input size\n",
    "    batch_size=32,\n",
    "    class_mode='categorical',  # Change to 'binary' if you have binary classes\n",
    "    shuffle=True\n",
    ")\n"
   ]
  },
  {
   "cell_type": "code",
   "execution_count": null,
   "metadata": {},
   "outputs": [],
   "source": [
    "# ResNet50 Model\n",
    "base_model = ResNet50(weights='imagenet', include_top=False)\n",
    "model = Sequential()\n",
    "model.add(base_model)\n",
    "model.add(GlobalAveragePooling2D())\n",
    "model.add(Dense(25, activation='softmax'))\n",
    "\n",
    "# Compile the Model\n",
    "model.compile(optimizer='adam', loss='categorical_crossentropy', metrics=['accuracy'])\n",
    "\n",
    "# Train the Model\n",
    "model.fit(generator, epochs=10, steps_per_epoch=len(df_overview)//32)"
   ]
  },
  {
   "cell_type": "code",
   "execution_count": null,
   "metadata": {},
   "outputs": [],
   "source": [
    "# Unfreeze layers for fine-tuning\n",
    "for layer in base_model.layers:\n",
    "    layer.trainable = True\n",
    "\n",
    "# Compile the Model for fine-tuning\n",
    "model.compile(optimizer='adam', loss='categorical_crossentropy', metrics=['accuracy'])\n",
    "\n",
    "# Fine-tune the Model\n",
    "model.fit(generator, epochs=10, steps_per_epoch=len(df_overview)//32)\n"
   ]
  },
  {
   "cell_type": "code",
   "execution_count": null,
   "metadata": {},
   "outputs": [],
   "source": [
    "# Evaluate the Model\n",
    "evaluation = model.evaluate(generator)\n",
    "\n",
    "# Print Model Performance Overview\n",
    "print(\"Model Performance Overview:\")\n",
    "print(\"Loss:\", evaluation[0])\n",
    "print(\"Accuracy:\", evaluation[1])\n"
   ]
  },
  {
   "cell_type": "code",
   "execution_count": 8,
   "metadata": {},
   "outputs": [],
   "source": [
    "df_overview = pd.read_csv(\"Medical Speech, Transcription, and Intent/overview-of-recordings.csv\")\n",
    "df_overview = df_overview[[\"file_name\",\"prompt\"]]\n",
    "df_overview[\"file_name\"] = df_overview[\"file_name\"].str.split(\".\").str[0] + \".jpg\"\n"
   ]
  },
  {
   "cell_type": "code",
   "execution_count": 10,
   "metadata": {},
   "outputs": [
    {
     "name": "stdout",
     "output_type": "stream",
     "text": [
      "Files organized successfully!\n"
     ]
    }
   ],
   "source": [
    "import os\n",
    "import shutil\n",
    "import pandas as pd\n",
    "\n",
    "# Assuming your dataframe is named df and has columns 'filename' and 'class_name'\n",
    "# Example:\n",
    "# df = pd.DataFrame({'filename': ['file1.jpg', 'file2.jpg', 'file3.jpg'],\n",
    "#                    'class_name': ['class1', 'class2', 'class1']})\n",
    "\n",
    "# Path to the folder containing the files\n",
    "source_folder = 'Medical Speech, Transcription, and Intent/spectrograms'\n",
    "\n",
    "# Path to the folder where you want to organize files\n",
    "output_folder = 'Medical Speech, Transcription, and Intent/spectrogram_subs'\n",
    "\n",
    "# Create output folder if it doesn't exist\n",
    "if not os.path.exists(output_folder):\n",
    "    os.makedirs(output_folder)\n",
    "\n",
    "# Get unique class names\n",
    "classes = df_overview['prompt'].unique()\n",
    "\n",
    "# Loop through each class\n",
    "for class_name in classes:\n",
    "    # Create a folder for the class\n",
    "    class_folder = os.path.join(output_folder, class_name)\n",
    "    os.makedirs(class_folder, exist_ok=True)\n",
    "    \n",
    "# Loop through each row in the dataframe\n",
    "for index, row in df_overview.iterrows():\n",
    "    filename = row['file_name']\n",
    "    class_name = row['prompt']\n",
    "    \n",
    "    # Copy the file to the respective class folder\n",
    "    source_path = os.path.join(source_folder, filename)\n",
    "    destination_path = os.path.join(output_folder, class_name, filename)\n",
    "    shutil.copyfile(source_path, destination_path)\n",
    "\n",
    "print(\"Files organized successfully!\")\n"
   ]
  }
 ],
 "metadata": {
  "kernelspec": {
   "display_name": "Python 3",
   "language": "python",
   "name": "python3"
  },
  "language_info": {
   "codemirror_mode": {
    "name": "ipython",
    "version": 3
   },
   "file_extension": ".py",
   "mimetype": "text/x-python",
   "name": "python",
   "nbconvert_exporter": "python",
   "pygments_lexer": "ipython3",
   "version": "3.9.6"
  }
 },
 "nbformat": 4,
 "nbformat_minor": 2
}
